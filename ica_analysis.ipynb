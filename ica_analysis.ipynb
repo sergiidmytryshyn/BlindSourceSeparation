{
 "cells": [
  {
   "cell_type": "markdown",
   "metadata": {},
   "source": [
    "### Implementation"
   ]
  },
  {
   "cell_type": "markdown",
   "metadata": {},
   "source": [
    "Necessary imports:"
   ]
  },
  {
   "cell_type": "code",
   "execution_count": 1,
   "metadata": {},
   "outputs": [],
   "source": [
    "import sklearn.decomposition as dec\n",
    "import librosa\n",
    "import soundfile as sf\n",
    "import numpy as np"
   ]
  },
  {
   "cell_type": "markdown",
   "metadata": {},
   "source": [
    "Function to preprocess data - cuting and mixing:"
   ]
  },
  {
   "cell_type": "code",
   "execution_count": 2,
   "metadata": {},
   "outputs": [],
   "source": [
    "def mix_sound(sounds, mixture):\n",
    "    mix_sound = np.zeros(sounds[0].shape[0])\n",
    "    for i in range(len(mixture)):\n",
    "        mix_sound += sounds[i]*mixture[i]\n",
    "    return mix_sound\n",
    "        \n",
    "\n",
    "\n",
    "def preprocess_data(sounds, mixtures):\n",
    "    min_length = float(\"inf\")\n",
    "    for sound in sounds:\n",
    "        length = sound.shape[0]\n",
    "        if length < min_length:\n",
    "            min_length = length\n",
    "\n",
    "    cut_sounds = []\n",
    "    for sound in sounds:\n",
    "        cut_sounds.append(sound[:min_length])\n",
    "\n",
    "    mixed_sounds = []\n",
    "    for i in range(len(sounds)):\n",
    "        mixed_sounds.append(mix_sound(cut_sounds,mixtures[i]))\n",
    "    return mixed_sounds"
   ]
  },
  {
   "cell_type": "markdown",
   "metadata": {},
   "source": [
    "Functions to center and whiten the data:"
   ]
  },
  {
   "cell_type": "code",
   "execution_count": 3,
   "metadata": {},
   "outputs": [],
   "source": [
    "def center_data(X):\n",
    "    data = []\n",
    "    for result in X:\n",
    "        centered = result - np.mean(result)\n",
    "        data.append(centered)\n",
    "    return data\n",
    "\n",
    "def whiten(X):\n",
    "    covar_of_sig = np.cov(X)\n",
    "    eig_val, eig_vec = np.linalg.eig(covar_of_sig)\n",
    "    diag_eig = np.diag(eig_val)\n",
    "    inv_sqr_of_diag = np.sqrt(np.linalg.pinv((diag_eig)))\n",
    "    whiten_trans = np.dot(eig_vec, np.dot(inv_sqr_of_diag, eig_vec.T))\n",
    "    whitened_sig = np.dot(whiten_trans, X)\n",
    "    return whitened_sig"
   ]
  },
  {
   "cell_type": "code",
   "execution_count": 4,
   "metadata": {},
   "outputs": [],
   "source": [
    "def f1(x):\n",
    "\treturn 1/(1 + np.exp(-x))\n",
    "\n",
    "def f1_der(x):\n",
    "    d = f1(x)\n",
    "    return d*(1 - d)"
   ]
  },
  {
   "cell_type": "markdown",
   "metadata": {},
   "source": [
    "ICA function:"
   ]
  },
  {
   "cell_type": "code",
   "execution_count": 5,
   "metadata": {},
   "outputs": [],
   "source": [
    "def ourICA(audio_sources, epsilon = 1e7):\n",
    "    centered = center_data(audio_sources)\n",
    "    sig_matrix = np.vstack(centered)\n",
    "    whitened_signal_matr = whiten(sig_matrix)\n",
    "\n",
    "    comps_of_V = []\n",
    "    for i in range(whitened_signal_matr.shape[0]):\n",
    "        num_of_sources = sig_matrix.shape[0]\n",
    "        length_of_track = sig_matrix.shape[1]\n",
    "\n",
    "        v1 = np.random.rand(num_of_sources)\n",
    "        v1 = v1/np.linalg.norm(v1)\n",
    "        v2 = np.random.rand(num_of_sources)\n",
    "        v2 = v2/np.linalg.norm(v2)\n",
    "\n",
    "        while( (1 - np.abs(np.dot(v1.T,v2))) > epsilon):\n",
    "            v1 = v2\n",
    "            first = np.dot(whitened_signal_matr, f1(np.dot(v2.T, whitened_signal_matr)))/length_of_track\n",
    "            second = np.mean(f1_der(np.dot(v2.T, whitened_signal_matr)))*v2\n",
    "            v2 = first - second\n",
    "            v3 = v2\n",
    "            for pres_comp in comps_of_V:\n",
    "                v3 = v3 - np.dot(v2.T, pres_comp)*pres_comp\n",
    "            v2 = v3\n",
    "            v2 = v2/np.linalg.norm(v2)\n",
    "        comps_of_V.append(v1)\n",
    "    V = np.vstack(comps_of_V)\n",
    "    S = np.dot(V, whitened_signal_matr)\n",
    "    return S"
   ]
  },
  {
   "cell_type": "markdown",
   "metadata": {},
   "source": [
    "### Application"
   ]
  },
  {
   "cell_type": "markdown",
   "metadata": {},
   "source": [
    "Loading the data:"
   ]
  },
  {
   "cell_type": "code",
   "execution_count": 6,
   "metadata": {},
   "outputs": [],
   "source": [
    "source1, sample_rate2 = librosa.load(\"./data/input_data/hello.mp3\")\n",
    "source2, sample_rate1 = librosa.load(\"./data/input_data/tryvoha.mp3\")\n",
    "source3, sample_rate1 = librosa.load(\"./data/input_data/vidbiy.mp3\")"
   ]
  },
  {
   "cell_type": "markdown",
   "metadata": {},
   "source": [
    "Mixing sources:"
   ]
  },
  {
   "cell_type": "code",
   "execution_count": 7,
   "metadata": {},
   "outputs": [],
   "source": [
    "mixed_sources = preprocess_data([source1, source2, source3], [[0.4, 0.3, 0.3], [0.3, 0.4, 0.3], [0.3, 0.3, 0.4]])"
   ]
  },
  {
   "cell_type": "markdown",
   "metadata": {},
   "source": [
    "Unmixing using our implementation:"
   ]
  },
  {
   "cell_type": "code",
   "execution_count": 8,
   "metadata": {},
   "outputs": [],
   "source": [
    "EPS = 1e-15 # epsilon, recommended over 1e-12\n",
    "our_sources = ourICA(mixed_sources, epsilon=EPS)"
   ]
  },
  {
   "cell_type": "markdown",
   "metadata": {},
   "source": [
    "Unmixing using in-built ICA function:"
   ]
  },
  {
   "cell_type": "code",
   "execution_count": 9,
   "metadata": {},
   "outputs": [],
   "source": [
    "ica_performer = dec.FastICA(n_components = len(mixed_sources))\n",
    "inbuilt_sources = ica_performer.fit_transform(list(zip(*mixed_sources))).T"
   ]
  },
  {
   "cell_type": "markdown",
   "metadata": {},
   "source": [
    "Write results into files:"
   ]
  },
  {
   "cell_type": "code",
   "execution_count": 10,
   "metadata": {},
   "outputs": [],
   "source": [
    "for i in range(len(mixed_sources)):\n",
    "    sf.write(f\"./data/output_data/source{i}mixed.mp3\", mixed_sources[i], sample_rate1)\n",
    "for i in range(len(mixed_sources)):\n",
    "    sf.write(f\"./data/output_data/source{i}our.mp3\", our_sources[i], sample_rate1)\n",
    "for i in range(len(mixed_sources)):\n",
    "    sf.write(f\"./data/output_data/source{i}inbuilt.mp3\", inbuilt_sources[i], sample_rate1)"
   ]
  }
 ],
 "metadata": {
  "kernelspec": {
   "display_name": "Python 3",
   "language": "python",
   "name": "python3"
  },
  "language_info": {
   "codemirror_mode": {
    "name": "ipython",
    "version": 3
   },
   "file_extension": ".py",
   "mimetype": "text/x-python",
   "name": "python",
   "nbconvert_exporter": "python",
   "pygments_lexer": "ipython3",
   "version": "3.10.12"
  }
 },
 "nbformat": 4,
 "nbformat_minor": 2
}
